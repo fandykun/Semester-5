{
 "cells": [
  {
   "cell_type": "code",
   "execution_count": 6,
   "metadata": {},
   "outputs": [],
   "source": [
    "import sklearn\n",
    "import numpy as np\n",
    "import pandas as pd\n",
    "import seaborn as sn\n",
    "from sklearn.neighbors import KNeighborsClassifier\n",
    "from sklearn.model_selection import train_test_split\n",
    "from sklearn.metrics import confusion_matrix"
   ]
  },
  {
   "cell_type": "code",
   "execution_count": 8,
   "metadata": {},
   "outputs": [
    {
     "name": "stdout",
     "output_type": "stream",
     "text": [
      "      0    1   2   3    4     5      6   7  8\n",
      "0     6  148  72  35    0  33.6  0.627  50  1\n",
      "1     1   85  66  29    0  26.6  0.351  31  0\n",
      "2     8  183  64   0    0  23.3  0.672  32  1\n",
      "3     1   89  66  23   94  28.1  0.167  21  0\n",
      "4     0  137  40  35  168  43.1  2.288  33  1\n",
      "5     5  116  74   0    0  25.6  0.201  30  0\n",
      "6     3   78  50  32   88  31.0  0.248  26  1\n",
      "7    10  115   0   0    0  35.3  0.134  29  0\n",
      "8     2  197  70  45  543  30.5  0.158  53  1\n",
      "9     8  125  96   0    0   0.0  0.232  54  1\n",
      "10    4  110  92   0    0  37.6  0.191  30  0\n",
      "11   10  168  74   0    0  38.0  0.537  34  1\n",
      "12   10  139  80   0    0  27.1  1.441  57  0\n",
      "13    1  189  60  23  846  30.1  0.398  59  1\n",
      "14    5  166  72  19  175  25.8  0.587  51  1\n",
      "15    7  100   0   0    0  30.0  0.484  32  1\n",
      "16    0  118  84  47  230  45.8  0.551  31  1\n",
      "17    7  107  74   0    0  29.6  0.254  31  1\n",
      "18    1  103  30  38   83  43.3  0.183  33  0\n",
      "19    1  115  70  30   96  34.6  0.529  32  1\n",
      "20    3  126  88  41  235  39.3  0.704  27  0\n",
      "21    8   99  84   0    0  35.4  0.388  50  0\n",
      "22    7  196  90   0    0  39.8  0.451  41  1\n",
      "23    9  119  80  35    0  29.0  0.263  29  1\n",
      "24   11  143  94  33  146  36.6  0.254  51  1\n",
      "25   10  125  70  26  115  31.1  0.205  41  1\n",
      "26    7  147  76   0    0  39.4  0.257  43  1\n",
      "27    1   97  66  15  140  23.2  0.487  22  0\n",
      "28   13  145  82  19  110  22.2  0.245  57  0\n",
      "29    5  117  92   0    0  34.1  0.337  38  0\n",
      "..   ..  ...  ..  ..  ...   ...    ...  .. ..\n",
      "738   2   99  60  17  160  36.6  0.453  21  0\n",
      "739   1  102  74   0    0  39.5  0.293  42  1\n",
      "740  11  120  80  37  150  42.3  0.785  48  1\n",
      "741   3  102  44  20   94  30.8  0.400  26  0\n",
      "742   1  109  58  18  116  28.5  0.219  22  0\n",
      "743   9  140  94   0    0  32.7  0.734  45  1\n",
      "744  13  153  88  37  140  40.6  1.174  39  0\n",
      "745  12  100  84  33  105  30.0  0.488  46  0\n",
      "746   1  147  94  41    0  49.3  0.358  27  1\n",
      "747   1   81  74  41   57  46.3  1.096  32  0\n",
      "748   3  187  70  22  200  36.4  0.408  36  1\n",
      "749   6  162  62   0    0  24.3  0.178  50  1\n",
      "750   4  136  70   0    0  31.2  1.182  22  1\n",
      "751   1  121  78  39   74  39.0  0.261  28  0\n",
      "752   3  108  62  24    0  26.0  0.223  25  0\n",
      "753   0  181  88  44  510  43.3  0.222  26  1\n",
      "754   8  154  78  32    0  32.4  0.443  45  1\n",
      "755   1  128  88  39  110  36.5  1.057  37  1\n",
      "756   7  137  90  41    0  32.0  0.391  39  0\n",
      "757   0  123  72   0    0  36.3  0.258  52  1\n",
      "758   1  106  76   0    0  37.5  0.197  26  0\n",
      "759   6  190  92   0    0  35.5  0.278  66  1\n",
      "760   2   88  58  26   16  28.4  0.766  22  0\n",
      "761   9  170  74  31    0  44.0  0.403  43  1\n",
      "762   9   89  62   0    0  22.5  0.142  33  0\n",
      "763  10  101  76  48  180  32.9  0.171  63  0\n",
      "764   2  122  70  27    0  36.8  0.340  27  0\n",
      "765   5  121  72  23  112  26.2  0.245  30  0\n",
      "766   1  126  60   0    0  30.1  0.349  47  1\n",
      "767   1   93  70  31    0  30.4  0.315  23  0\n",
      "\n",
      "[768 rows x 9 columns]\n"
     ]
    }
   ],
   "source": [
    "dataset = pd.read_csv('pima-indians-diabetes.csv', header=None)\n",
    "print(dataset)"
   ]
  },
  {
   "cell_type": "code",
   "execution_count": 22,
   "metadata": {},
   "outputs": [
    {
     "name": "stdout",
     "output_type": "stream",
     "text": [
      "      0    1   2   3    4     5      6   7\n",
      "0     6  148  72  35    0  33.6  0.627  50\n",
      "1     1   85  66  29    0  26.6  0.351  31\n",
      "2     8  183  64   0    0  23.3  0.672  32\n",
      "3     1   89  66  23   94  28.1  0.167  21\n",
      "4     0  137  40  35  168  43.1  2.288  33\n",
      "5     5  116  74   0    0  25.6  0.201  30\n",
      "6     3   78  50  32   88  31.0  0.248  26\n",
      "7    10  115   0   0    0  35.3  0.134  29\n",
      "8     2  197  70  45  543  30.5  0.158  53\n",
      "9     8  125  96   0    0   0.0  0.232  54\n",
      "10    4  110  92   0    0  37.6  0.191  30\n",
      "11   10  168  74   0    0  38.0  0.537  34\n",
      "12   10  139  80   0    0  27.1  1.441  57\n",
      "13    1  189  60  23  846  30.1  0.398  59\n",
      "14    5  166  72  19  175  25.8  0.587  51\n",
      "15    7  100   0   0    0  30.0  0.484  32\n",
      "16    0  118  84  47  230  45.8  0.551  31\n",
      "17    7  107  74   0    0  29.6  0.254  31\n",
      "18    1  103  30  38   83  43.3  0.183  33\n",
      "19    1  115  70  30   96  34.6  0.529  32\n",
      "20    3  126  88  41  235  39.3  0.704  27\n",
      "21    8   99  84   0    0  35.4  0.388  50\n",
      "22    7  196  90   0    0  39.8  0.451  41\n",
      "23    9  119  80  35    0  29.0  0.263  29\n",
      "24   11  143  94  33  146  36.6  0.254  51\n",
      "25   10  125  70  26  115  31.1  0.205  41\n",
      "26    7  147  76   0    0  39.4  0.257  43\n",
      "27    1   97  66  15  140  23.2  0.487  22\n",
      "28   13  145  82  19  110  22.2  0.245  57\n",
      "29    5  117  92   0    0  34.1  0.337  38\n",
      "..   ..  ...  ..  ..  ...   ...    ...  ..\n",
      "738   2   99  60  17  160  36.6  0.453  21\n",
      "739   1  102  74   0    0  39.5  0.293  42\n",
      "740  11  120  80  37  150  42.3  0.785  48\n",
      "741   3  102  44  20   94  30.8  0.400  26\n",
      "742   1  109  58  18  116  28.5  0.219  22\n",
      "743   9  140  94   0    0  32.7  0.734  45\n",
      "744  13  153  88  37  140  40.6  1.174  39\n",
      "745  12  100  84  33  105  30.0  0.488  46\n",
      "746   1  147  94  41    0  49.3  0.358  27\n",
      "747   1   81  74  41   57  46.3  1.096  32\n",
      "748   3  187  70  22  200  36.4  0.408  36\n",
      "749   6  162  62   0    0  24.3  0.178  50\n",
      "750   4  136  70   0    0  31.2  1.182  22\n",
      "751   1  121  78  39   74  39.0  0.261  28\n",
      "752   3  108  62  24    0  26.0  0.223  25\n",
      "753   0  181  88  44  510  43.3  0.222  26\n",
      "754   8  154  78  32    0  32.4  0.443  45\n",
      "755   1  128  88  39  110  36.5  1.057  37\n",
      "756   7  137  90  41    0  32.0  0.391  39\n",
      "757   0  123  72   0    0  36.3  0.258  52\n",
      "758   1  106  76   0    0  37.5  0.197  26\n",
      "759   6  190  92   0    0  35.5  0.278  66\n",
      "760   2   88  58  26   16  28.4  0.766  22\n",
      "761   9  170  74  31    0  44.0  0.403  43\n",
      "762   9   89  62   0    0  22.5  0.142  33\n",
      "763  10  101  76  48  180  32.9  0.171  63\n",
      "764   2  122  70  27    0  36.8  0.340  27\n",
      "765   5  121  72  23  112  26.2  0.245  30\n",
      "766   1  126  60   0    0  30.1  0.349  47\n",
      "767   1   93  70  31    0  30.4  0.315  23\n",
      "\n",
      "[768 rows x 8 columns]\n"
     ]
    }
   ],
   "source": [
    "data = dataset.iloc[:, :-1]\n",
    "print(data)"
   ]
  },
  {
   "cell_type": "code",
   "execution_count": 23,
   "metadata": {},
   "outputs": [
    {
     "name": "stdout",
     "output_type": "stream",
     "text": [
      "     8\n",
      "0    1\n",
      "1    0\n",
      "2    1\n",
      "3    0\n",
      "4    1\n",
      "5    0\n",
      "6    1\n",
      "7    0\n",
      "8    1\n",
      "9    1\n",
      "10   0\n",
      "11   1\n",
      "12   0\n",
      "13   1\n",
      "14   1\n",
      "15   1\n",
      "16   1\n",
      "17   1\n",
      "18   0\n",
      "19   1\n",
      "20   0\n",
      "21   0\n",
      "22   1\n",
      "23   1\n",
      "24   1\n",
      "25   1\n",
      "26   1\n",
      "27   0\n",
      "28   0\n",
      "29   0\n",
      "..  ..\n",
      "738  0\n",
      "739  1\n",
      "740  1\n",
      "741  0\n",
      "742  0\n",
      "743  1\n",
      "744  0\n",
      "745  0\n",
      "746  1\n",
      "747  0\n",
      "748  1\n",
      "749  1\n",
      "750  1\n",
      "751  0\n",
      "752  0\n",
      "753  1\n",
      "754  1\n",
      "755  1\n",
      "756  0\n",
      "757  1\n",
      "758  0\n",
      "759  1\n",
      "760  0\n",
      "761  1\n",
      "762  0\n",
      "763  0\n",
      "764  0\n",
      "765  0\n",
      "766  1\n",
      "767  0\n",
      "\n",
      "[768 rows x 1 columns]\n"
     ]
    }
   ],
   "source": [
    "kelas = dataset.iloc[:, -1:]\n",
    "print(kelas)"
   ]
  },
  {
   "cell_type": "code",
   "execution_count": 56,
   "metadata": {},
   "outputs": [
    {
     "name": "stdout",
     "output_type": "stream",
     "text": [
      "(154, 8)\n"
     ]
    }
   ],
   "source": [
    "x_train, x_test, y_train, y_test = train_test_split(data, kelas, test_size=0.2)\n",
    "print(x_test.shape)"
   ]
  },
  {
   "cell_type": "code",
   "execution_count": 59,
   "metadata": {},
   "outputs": [
    {
     "name": "stdout",
     "output_type": "stream",
     "text": [
      "[0 0 0 0 0 0 0 1 0 1 0 1 0 1 1 1 0 1 0 0 1 1 0 0 0 0 0 0 0 0 0 1 0 1 0 0 0\n",
      " 0 1 1 0 0 0 0 0 0 0 0 0 1 0 1 0 1 1 0 0 1 0 0 0 0 1 0 1 0 0 0 0 0 1 0 1 0\n",
      " 1 0 1 1 0 0 1 0 1 0 0 1 0 1 0 1 0 0 0 1 0 1 1 0 0 1 0 0 0 1 1 0 0 1 0 0 0\n",
      " 0 0 0 1 0 0 1 0 0 0 0 0 1 0 0 0 0 0 1 0 0 0 0 0 0 0 0 0 1 0 0 1 1 1 0 0 0\n",
      " 0 0 0 1 0 0]\n"
     ]
    }
   ],
   "source": [
    "y_train = y_train.values.flatten()\n",
    "y_test = y_test.values.flatten()\n",
    "print(y_test)"
   ]
  },
  {
   "cell_type": "code",
   "execution_count": 60,
   "metadata": {},
   "outputs": [
    {
     "data": {
      "text/plain": [
       "0.7597402597402597"
      ]
     },
     "execution_count": 60,
     "metadata": {},
     "output_type": "execute_result"
    }
   ],
   "source": [
    "knn = KNeighborsClassifier(13)\n",
    "knn.fit(x_train, y_train)\n",
    "KNeighborsClassifier(algorithm='auto', leaf_size=30, metric = 'minkowski', p = 2, n_neighbors=13, weights='uniform')\n",
    "knn.score(x_test, y_test)"
   ]
  },
  {
   "cell_type": "code",
   "execution_count": 61,
   "metadata": {},
   "outputs": [
    {
     "name": "stdout",
     "output_type": "stream",
     "text": [
      "[0 0 0 1 1 0 0 1 0 1 1 0 0 1 1 1 1 1 0 0 1 0 0 0 0 0 0 0 0 0 0 1 0 1 0 0 0\n",
      " 0 1 1 1 0 0 0 0 0 0 0 0 1 0 1 0 1 1 0 1 1 0 1 0 0 1 0 1 1 1 0 0 0 0 0 0 0\n",
      " 1 0 0 1 0 1 1 1 0 0 0 1 1 0 0 1 0 1 0 0 0 0 1 0 1 1 1 0 0 1 0 0 0 0 0 0 0\n",
      " 1 0 0 1 0 0 0 0 0 0 1 0 0 0 0 0 0 0 0 0 0 0 1 0 0 0 0 0 0 0 0 0 0 1 0 0 0\n",
      " 0 0 0 0 1 0]\n"
     ]
    }
   ],
   "source": [
    "y_pred = knn.predict(x_test)\n",
    "print(y_pred)"
   ]
  },
  {
   "cell_type": "code",
   "execution_count": 62,
   "metadata": {},
   "outputs": [
    {
     "name": "stdout",
     "output_type": "stream",
     "text": [
      "[[89 19]\n",
      " [18 28]]\n"
     ]
    }
   ],
   "source": [
    "cm = confusion_matrix(y_test, y_pred)\n",
    "print(cm)"
   ]
  },
  {
   "cell_type": "code",
   "execution_count": 63,
   "metadata": {},
   "outputs": [
    {
     "data": {
      "text/plain": [
       "<matplotlib.axes._subplots.AxesSubplot at 0x29934f85b70>"
      ]
     },
     "execution_count": 63,
     "metadata": {},
     "output_type": "execute_result"
    },
    {
     "data": {
      "image/png": "[encoded data removed]",
      "text/plain": [
       "<Figure size 432x288 with 2 Axes>"
      ]
     },
     "metadata": {
      "needs_background": "light"
     },
     "output_type": "display_data"
    }
   ],
   "source": [
    "df_cm = pd.DataFrame(cm, index=['0', '1'], columns=['0', '1'])\n",
    "sn.heatmap(df_cm, annot=True)"
   ]
  }
 ],
 "metadata": {
  "kernelspec": {
   "display_name": "Python 3",
   "language": "python",
   "name": "python3"
  },
  "language_info": {
   "codemirror_mode": {
    "name": "ipython",
    "version": 3
   },
   "file_extension": ".py",
   "mimetype": "text/x-python",
   "name": "python",
   "nbconvert_exporter": "python",
   "pygments_lexer": "ipython3",
   "version": "3.7.3"
  }
 },
 "nbformat": 4,
 "nbformat_minor": 2
}
